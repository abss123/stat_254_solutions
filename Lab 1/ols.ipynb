{
 "cells": [
  {
   "cell_type": "raw",
   "id": "9dd6fb9d-9ca3-4f5f-b62a-7852663b1e3e",
   "metadata": {},
   "source": [
    "!brew install numpy"
   ]
  },
  {
   "cell_type": "code",
   "execution_count": 1,
   "id": "eacf5a99-d98d-4764-9f69-5f5615eea877",
   "metadata": {},
   "outputs": [],
   "source": [
    "import numpy as np\n",
    "import timeit"
   ]
  },
  {
   "cell_type": "code",
   "execution_count": 2,
   "id": "63209e14-1671-4a5b-b8f0-7ce6ac102bf9",
   "metadata": {},
   "outputs": [
    {
     "name": "stdin",
     "output_type": "stream",
     "text": [
      "Enter number of entries: 5\n",
      "Enter number of features: 3\n"
     ]
    }
   ],
   "source": [
    "num_rows = int(input('Enter number of entries:'))\n",
    "num_fts = int(input('Enter number of features:'))"
   ]
  },
  {
   "cell_type": "code",
   "execution_count": 3,
   "id": "bea1ea3b-4fba-4df5-9845-0759301a1b0a",
   "metadata": {},
   "outputs": [
    {
     "name": "stdout",
     "output_type": "stream",
     "text": [
      "Number of Entries: 5 & Number of Features: 3\n"
     ]
    }
   ],
   "source": [
    "print('Number of Entries:', num_rows, '& Number of Features:', num_fts)"
   ]
  },
  {
   "cell_type": "markdown",
   "id": "b03d833e-0c10-43b7-830d-f5ab1e6fd349",
   "metadata": {},
   "source": [
    "# Implement OLS"
   ]
  },
  {
   "cell_type": "markdown",
   "id": "b68353eb-5420-4deb-ad94-260d8243d1cc",
   "metadata": {},
   "source": [
    "### Generate a matrix and an array filled with random values using the Python package numpy.\n"
   ]
  },
  {
   "cell_type": "code",
   "execution_count": 4,
   "id": "8ba3a33a-385f-4f4f-bac4-61be15ccec82",
   "metadata": {},
   "outputs": [],
   "source": [
    "np.random.seed(4)\n",
    "x_input = np.random.rand(num_rows, num_fts)\n",
    "np.random.seed(3)\n",
    "y_actual = np.random.rand(num_rows)"
   ]
  },
  {
   "cell_type": "code",
   "execution_count": 5,
   "id": "2286f426-1e07-4911-b9d7-12a70d90c4bc",
   "metadata": {},
   "outputs": [
    {
     "name": "stdout",
     "output_type": "stream",
     "text": [
      "[[0.96702984 0.54723225 0.97268436]\n",
      " [0.71481599 0.69772882 0.2160895 ]\n",
      " [0.97627445 0.00623026 0.25298236]\n",
      " [0.43479153 0.77938292 0.19768507]\n",
      " [0.86299324 0.98340068 0.16384224]]\n"
     ]
    }
   ],
   "source": [
    "print(x_input)"
   ]
  },
  {
   "cell_type": "code",
   "execution_count": 6,
   "id": "34fe3d3a-6a55-410d-a06a-a01c6c13f1d9",
   "metadata": {},
   "outputs": [
    {
     "name": "stdout",
     "output_type": "stream",
     "text": [
      "[0.5507979  0.70814782 0.29090474 0.51082761 0.89294695]\n"
     ]
    }
   ],
   "source": [
    "print(y_actual)"
   ]
  },
  {
   "cell_type": "markdown",
   "id": "09276d93-9617-4560-87e7-ea202f845fc6",
   "metadata": {},
   "source": [
    "### Implement the calculation of the OLS estimator using numpy."
   ]
  },
  {
   "cell_type": "code",
   "execution_count": 7,
   "id": "57392b52-0d3c-4bdd-aaa1-4307f82965a0",
   "metadata": {},
   "outputs": [],
   "source": [
    "def ols_func_v1(x_input, y_actual):\n",
    "    mat_1 = np.linalg.inv(np.matmul(np.transpose(x_input), x_input))\n",
    "    mat_2 = np.matmul(mat_1, np.transpose(x_input))\n",
    "    final_mat = np.matmul(mat_2, y_actual)\n",
    "    return(final_mat)"
   ]
  },
  {
   "cell_type": "code",
   "execution_count": 8,
   "id": "6618ac7a-ddef-4f4d-b36c-3fcd3486c421",
   "metadata": {},
   "outputs": [],
   "source": [
    "def ols_func_v2(x_input, y_actual):\n",
    "    mat_1 = np.linalg.inv(np.matmul(np.transpose(x_input), x_input))\n",
    "    mat_2 = np.matmul(np.transpose(x_input), y_actual)\n",
    "    final_mat = np.matmul(mat_1, mat_2)\n",
    "    return(final_mat)"
   ]
  },
  {
   "cell_type": "markdown",
   "id": "c121095c-d77d-44dd-b1e3-8bc04742d9a7",
   "metadata": {},
   "source": [
    "# NEED TO CALCULATE TIME COMPLEXITY"
   ]
  },
  {
   "cell_type": "markdown",
   "id": "eed7c607-012e-414f-bd23-8e72407bd812",
   "metadata": {},
   "source": [
    "### Compare the execution time of the two variants using the package timeit"
   ]
  },
  {
   "cell_type": "code",
   "execution_count": 9,
   "id": "75141309-ec2a-4fe5-ac73-6489d605a4d4",
   "metadata": {},
   "outputs": [
    {
     "data": {
      "text/plain": [
       "0.0032909169999992827"
      ]
     },
     "execution_count": 9,
     "metadata": {},
     "output_type": "execute_result"
    }
   ],
   "source": [
    "import timeit\n",
    "timeit.timeit(\"ols_func_v1(x_input, y_actual)\", number=100, globals=globals())\n"
   ]
  },
  {
   "cell_type": "code",
   "execution_count": 10,
   "id": "27a58bf0-b437-4c99-964a-2d93966e8e26",
   "metadata": {},
   "outputs": [
    {
     "data": {
      "text/plain": [
       "0.001433708000000422"
      ]
     },
     "execution_count": 10,
     "metadata": {},
     "output_type": "execute_result"
    }
   ],
   "source": [
    "import timeit\n",
    "timeit.timeit(\"ols_func_v2(x_input, y_actual)\", number=100, globals=globals())\n"
   ]
  },
  {
   "cell_type": "code",
   "execution_count": 11,
   "id": "5c895176-45b6-4063-a7d9-386c92038e11",
   "metadata": {},
   "outputs": [],
   "source": [
    "# %%timeit\n",
    "# ols_func_v1(x_input, y_actual)"
   ]
  },
  {
   "cell_type": "code",
   "execution_count": 12,
   "id": "52082e3d-74f3-47f6-af63-b59743e96923",
   "metadata": {},
   "outputs": [],
   "source": [
    "# %%timeit\n",
    "# ols_func_v2(x_input, y_actual)"
   ]
  },
  {
   "cell_type": "raw",
   "id": "48ba06f2-0771-4c80-b9e8-1573b53c0eb7",
   "metadata": {},
   "source": [
    "2nd Approach is faster!"
   ]
  },
  {
   "cell_type": "markdown",
   "id": "4af056a5-7dc3-40f4-b7de-d46ec926b0b1",
   "metadata": {},
   "source": [
    "### OLS using sklearn"
   ]
  },
  {
   "cell_type": "code",
   "execution_count": 13,
   "id": "d482c7e3-b831-4327-b04a-f0bcb10263b6",
   "metadata": {},
   "outputs": [],
   "source": [
    "from sklearn.linear_model import LinearRegression"
   ]
  },
  {
   "cell_type": "code",
   "execution_count": 61,
   "id": "caa181ed-364c-42af-b39d-b2820071925a",
   "metadata": {},
   "outputs": [],
   "source": [
    "reg = LinearRegression().fit(x_input, y_actual)\n",
    "reg_2 = LinearRegression(fit_intercept=False).fit(x_input, y_actual)"
   ]
  },
  {
   "cell_type": "code",
   "execution_count": 62,
   "id": "a7d15c3b-505f-4730-a967-f04e5c0e2caf",
   "metadata": {},
   "outputs": [
    {
     "name": "stdout",
     "output_type": "stream",
     "text": [
      "[ 0.55129031  0.67858281 -0.15896116]\n",
      "[ 0.36325365  0.59514762 -0.13848539]\n"
     ]
    }
   ],
   "source": [
    "print(reg.coef_)\n",
    "print(reg_2.coef_)"
   ]
  },
  {
   "cell_type": "code",
   "execution_count": 19,
   "id": "baf6b245-8e37-4347-b8e7-cb49a6feaa7c",
   "metadata": {},
   "outputs": [
    {
     "data": {
      "text/plain": [
       "np.float64(-0.19716132782844187)"
      ]
     },
     "execution_count": 19,
     "metadata": {},
     "output_type": "execute_result"
    }
   ],
   "source": [
    "reg.intercept_"
   ]
  },
  {
   "cell_type": "code",
   "execution_count": 63,
   "id": "37fca092-8862-4772-947c-5f1f999db11a",
   "metadata": {},
   "outputs": [],
   "source": [
    "beta = ols_func_v2(x_input, y_actual)"
   ]
  },
  {
   "cell_type": "code",
   "execution_count": 64,
   "id": "e2e20800-3955-4bd1-bf0e-91e62e9a2eae",
   "metadata": {},
   "outputs": [
    {
     "name": "stdout",
     "output_type": "stream",
     "text": [
      "[ 0.36325365  0.59514762 -0.13848539]\n"
     ]
    }
   ],
   "source": [
    "print(beta)"
   ]
  },
  {
   "cell_type": "code",
   "execution_count": 52,
   "id": "807968a7-94e8-4d46-91b4-d106030f531e",
   "metadata": {},
   "outputs": [],
   "source": [
    "np.random.seed(3)\n",
    "x_test = np.random.rand(num_fts, 1)"
   ]
  },
  {
   "cell_type": "code",
   "execution_count": 53,
   "id": "c2fb2bcb-b9e1-4f05-9340-2c8f5f0de594",
   "metadata": {},
   "outputs": [
    {
     "data": {
      "text/plain": [
       "array([[0.5507979 ],\n",
       "       [0.70814782],\n",
       "       [0.29090474]])"
      ]
     },
     "execution_count": 53,
     "metadata": {},
     "output_type": "execute_result"
    }
   ],
   "source": [
    "x_test"
   ]
  },
  {
   "cell_type": "code",
   "execution_count": 54,
   "id": "28b5d89c-8551-478f-b418-d7340b55182e",
   "metadata": {},
   "outputs": [],
   "source": [
    "beta = beta.reshape(num_fts, 1)"
   ]
  },
  {
   "cell_type": "code",
   "execution_count": 55,
   "id": "3eebf272-2a33-4664-9708-2aa98144be52",
   "metadata": {},
   "outputs": [],
   "source": [
    "y_pred = np.matmul(np.transpose(x_test), beta)"
   ]
  },
  {
   "cell_type": "code",
   "execution_count": 56,
   "id": "28f5390a-e7e9-4e2e-a1f0-e4d90325e363",
   "metadata": {},
   "outputs": [
    {
     "data": {
      "text/plain": [
       "array([[0.58124578]])"
      ]
     },
     "execution_count": 56,
     "metadata": {},
     "output_type": "execute_result"
    }
   ],
   "source": [
    "y_pred"
   ]
  },
  {
   "cell_type": "code",
   "execution_count": 58,
   "id": "8b55e4d4-1cf4-4289-9ae0-286bf54bda7d",
   "metadata": {},
   "outputs": [
    {
     "data": {
      "text/plain": [
       "array([0.5407826])"
      ]
     },
     "execution_count": 58,
     "metadata": {},
     "output_type": "execute_result"
    }
   ],
   "source": [
    "reg.predict(np.transpose(x_test))"
   ]
  },
  {
   "cell_type": "code",
   "execution_count": 65,
   "id": "4b4fd910-3868-4a84-ad3c-9c82057eb5ab",
   "metadata": {},
   "outputs": [
    {
     "data": {
      "text/plain": [
       "array([0.58124578])"
      ]
     },
     "execution_count": 65,
     "metadata": {},
     "output_type": "execute_result"
    }
   ],
   "source": [
    "reg_2.predict(np.transpose(x_test))"
   ]
  },
  {
   "cell_type": "code",
   "execution_count": 48,
   "id": "d4da8a64-03a5-47de-829c-aaa76b146f8e",
   "metadata": {},
   "outputs": [
    {
     "data": {
      "text/plain": [
       "(1, 3)"
      ]
     },
     "execution_count": 48,
     "metadata": {},
     "output_type": "execute_result"
    }
   ],
   "source": [
    "x_test.shape"
   ]
  },
  {
   "cell_type": "code",
   "execution_count": 49,
   "id": "36f6a3a6-bb8c-4198-9554-e70c32831725",
   "metadata": {},
   "outputs": [
    {
     "data": {
      "text/plain": [
       "(3, 1)"
      ]
     },
     "execution_count": 49,
     "metadata": {},
     "output_type": "execute_result"
    }
   ],
   "source": [
    "beta.shape"
   ]
  },
  {
   "cell_type": "raw",
   "id": "e50efa5f-db4c-4832-bcc0-aedbed7a9fbe",
   "metadata": {},
   "source": [
    "The outputs match when the intercept is set as false"
   ]
  },
  {
   "cell_type": "code",
   "execution_count": null,
   "id": "5c109fc6-3dd9-4dfb-922c-89369cac7769",
   "metadata": {},
   "outputs": [],
   "source": []
  },
  {
   "cell_type": "code",
   "execution_count": null,
   "id": "3d79b8a1-6e82-4aed-9b75-25cbb02b418d",
   "metadata": {},
   "outputs": [],
   "source": []
  },
  {
   "cell_type": "code",
   "execution_count": null,
   "id": "ce0cf07c-1bc1-4aee-98f4-f1f24f76258e",
   "metadata": {},
   "outputs": [],
   "source": []
  },
  {
   "cell_type": "markdown",
   "id": "d0c8ace1-3c6b-4152-a883-c332c5dc56d4",
   "metadata": {},
   "source": [
    "# Implement a loss function"
   ]
  },
  {
   "cell_type": "code",
   "execution_count": 70,
   "id": "e3b01167-cbad-4dae-88ed-ed81e09825fe",
   "metadata": {},
   "outputs": [
    {
     "data": {
      "text/plain": [
       "(5,)"
      ]
     },
     "execution_count": 70,
     "metadata": {},
     "output_type": "execute_result"
    }
   ],
   "source": [
    "y_actual.shape"
   ]
  },
  {
   "cell_type": "code",
   "execution_count": 71,
   "id": "0dcbec06-4f73-4e63-b105-d6273e152c82",
   "metadata": {},
   "outputs": [],
   "source": [
    "y_actual_2 = np.random.rand(num_rows)"
   ]
  },
  {
   "cell_type": "code",
   "execution_count": 72,
   "id": "7dc840e6-dd03-400a-a98e-089a852cd852",
   "metadata": {},
   "outputs": [
    {
     "data": {
      "text/plain": [
       "(5,)"
      ]
     },
     "execution_count": 72,
     "metadata": {},
     "output_type": "execute_result"
    }
   ],
   "source": [
    "    y_actual_2.shape"
   ]
  },
  {
   "cell_type": "code",
   "execution_count": 80,
   "id": "7c516f45-48e1-420e-9797-db31a1a07e38",
   "metadata": {},
   "outputs": [
    {
     "name": "stdout",
     "output_type": "stream",
     "text": [
      "mean squared error: 1.0208451038829947\n",
      "CPU times: user 118 µs, sys: 14 µs, total: 132 µs\n",
      "Wall time: 129 µs\n"
     ]
    }
   ],
   "source": [
    "%%time\n",
    "err = 0\n",
    "for i in range(len(y_actual)):\n",
    "    err += (y_actual[i]-y_actual_2[i])**2\n",
    "print('mean squared error:', err)"
   ]
  },
  {
   "cell_type": "code",
   "execution_count": 81,
   "id": "88caa2a3-664f-46c9-b47e-4feb183be5d0",
   "metadata": {},
   "outputs": [
    {
     "name": "stdout",
     "output_type": "stream",
     "text": [
      "CPU times: user 99 µs, sys: 1 µs, total: 100 µs\n",
      "Wall time: 107 µs\n"
     ]
    },
    {
     "data": {
      "text/plain": [
       "np.float64(1.0208451038829947)"
      ]
     },
     "execution_count": 81,
     "metadata": {},
     "output_type": "execute_result"
    }
   ],
   "source": [
    "%%time\n",
    "(np.square(y_actual - y_actual_2)).sum(axis=0)"
   ]
  },
  {
   "cell_type": "code",
   "execution_count": null,
   "id": "4cfb9c41-1a75-4f02-b2e7-b7244f7d7e79",
   "metadata": {},
   "outputs": [],
   "source": []
  },
  {
   "cell_type": "code",
   "execution_count": null,
   "id": "b0ddc51b-31f7-464f-b029-628561566f4a",
   "metadata": {},
   "outputs": [],
   "source": []
  },
  {
   "cell_type": "code",
   "execution_count": null,
   "id": "02124d12-9cff-4896-9675-f595aab461dc",
   "metadata": {},
   "outputs": [],
   "source": []
  },
  {
   "cell_type": "code",
   "execution_count": null,
   "id": "eae77f80-9158-4988-a30d-2fab03650b83",
   "metadata": {},
   "outputs": [],
   "source": []
  },
  {
   "cell_type": "code",
   "execution_count": null,
   "id": "a36fdddf-b256-45c8-a83d-8434f92a6277",
   "metadata": {},
   "outputs": [],
   "source": []
  },
  {
   "cell_type": "code",
   "execution_count": null,
   "id": "8e01cdfe-5aab-4328-8000-92120bf3837d",
   "metadata": {},
   "outputs": [],
   "source": []
  },
  {
   "cell_type": "code",
   "execution_count": null,
   "id": "e30aa9e9-10fc-4c38-b3e9-8acf5c518010",
   "metadata": {},
   "outputs": [],
   "source": []
  },
  {
   "cell_type": "code",
   "execution_count": null,
   "id": "cb1975c2-29f4-47b2-8c0d-d0ac5bd71f54",
   "metadata": {},
   "outputs": [],
   "source": []
  },
  {
   "cell_type": "code",
   "execution_count": null,
   "id": "ba36af95-52e9-49e0-ad01-57001622a033",
   "metadata": {},
   "outputs": [],
   "source": []
  },
  {
   "cell_type": "code",
   "execution_count": null,
   "id": "a616b143-53d0-400e-86a3-93b954555864",
   "metadata": {},
   "outputs": [],
   "source": []
  },
  {
   "cell_type": "code",
   "execution_count": null,
   "id": "7f358641-2cfd-45b6-9b19-1c3156f85f08",
   "metadata": {},
   "outputs": [],
   "source": []
  },
  {
   "cell_type": "code",
   "execution_count": null,
   "id": "fd1bb492-2610-46e3-887f-a3c49a01345e",
   "metadata": {},
   "outputs": [],
   "source": []
  }
 ],
 "metadata": {
  "kernelspec": {
   "display_name": "My Sci-Kit Learn Env",
   "language": "python",
   "name": "sklearn-env"
  },
  "language_info": {
   "codemirror_mode": {
    "name": "ipython",
    "version": 3
   },
   "file_extension": ".py",
   "mimetype": "text/x-python",
   "name": "python",
   "nbconvert_exporter": "python",
   "pygments_lexer": "ipython3",
   "version": "3.9.6"
  }
 },
 "nbformat": 4,
 "nbformat_minor": 5
}
