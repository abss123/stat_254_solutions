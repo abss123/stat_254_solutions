{
 "cells": [
  {
   "cell_type": "markdown",
   "id": "0601a206-e8b6-43a8-88be-ff58a2e2c3a2",
   "metadata": {},
   "source": [
    "# Lab 2 Exercise - Linear Regression Competition\n",
    "\n",
    "Worked with Isabelle Ng"
   ]
  },
  {
   "cell_type": "code",
   "execution_count": 1,
   "id": "b7e93a7a-4ed9-417b-a7d3-ba97c6a3d20c",
   "metadata": {},
   "outputs": [],
   "source": [
    "import numpy as np\n",
    "import pandas as pd\n",
    "import sklearn as sklearn\n",
    "from matplotlib import pyplot as plt\n",
    "import seaborn as sns"
   ]
  },
  {
   "cell_type": "code",
   "execution_count": 2,
   "id": "7962af6f-da25-476c-ad0d-2fe6a8eeecd9",
   "metadata": {},
   "outputs": [],
   "source": [
    "X_train = np.load(\"X_train.npy\")\n",
    "y_train = np.load(\"y_train.npy\")\n",
    "X_test = np.load(\"X_test.npy\")"
   ]
  },
  {
   "cell_type": "code",
   "execution_count": 3,
   "id": "b1a7bf2f-95b3-4510-9b96-e9d7837c6ae8",
   "metadata": {},
   "outputs": [
    {
     "data": {
      "text/plain": [
       "(8000, 10)"
      ]
     },
     "execution_count": 3,
     "metadata": {},
     "output_type": "execute_result"
    }
   ],
   "source": [
    "X_train.shape"
   ]
  },
  {
   "cell_type": "code",
   "execution_count": 4,
   "id": "79be4c1f-b2aa-45b2-96d8-e0327f59130a",
   "metadata": {},
   "outputs": [
    {
     "data": {
      "text/plain": [
       "(8000,)"
      ]
     },
     "execution_count": 4,
     "metadata": {},
     "output_type": "execute_result"
    }
   ],
   "source": [
    "y_train.shape"
   ]
  },
  {
   "cell_type": "code",
   "execution_count": 5,
   "id": "cb81a09f-e761-4046-b0f9-74e01922abb0",
   "metadata": {},
   "outputs": [
    {
     "data": {
      "text/plain": [
       "(16000, 10)"
      ]
     },
     "execution_count": 5,
     "metadata": {},
     "output_type": "execute_result"
    }
   ],
   "source": [
    "X_test.shape"
   ]
  },
  {
   "cell_type": "code",
   "execution_count": 25,
   "id": "d5421d08-29c5-453e-879d-bbfb79d8bfa3",
   "metadata": {},
   "outputs": [],
   "source": [
    "# --- Paste the modified quantile_plot function from above here ---\n",
    "def quantile_plot(x, y, ax, by=None, bins=10, by_bins=3, y_fn=np.mean):\n",
    "    assert len(x) == len(y)\n",
    "    def qp_data(x, y):\n",
    "        fac = np.searchsorted(np.quantile(x, q=[i / bins for i in range(1, bins)]), x)\n",
    "        ufac = np.unique(fac)\n",
    "        qx = np.array([np.mean(x[fac == f]) for f in ufac])\n",
    "        qy = np.array([y_fn(y[fac == f]) for f in ufac])\n",
    "        return qx, qy\n",
    "    qx, qy = qp_data(x, y)\n",
    "    if by is None:\n",
    "        ax.plot(qx, qy, \"-o\")\n",
    "    else:\n",
    "        assert len(x) == len(by)\n",
    "        ax.plot(qx, qy, \"-o\", label=\"ALL\", color=\"lightgrey\")\n",
    "        by_fac = np.searchsorted(np.quantile(by, q=[i / by_bins for i in range(1, by_bins)]), by)\n",
    "        by_ufac = np.unique(by_fac)\n",
    "        for i, f in enumerate(np.unique(by_ufac)):\n",
    "            mask = by_fac == f\n",
    "            nm = f\"{i}) {min(by[mask]):.2f} / {max(by[mask]):.2f}\"\n",
    "            qx, qy = qp_data(x[mask], y[mask])\n",
    "            ax.plot(qx, qy, \"-o\", label=nm)\n",
    "        ax.legend()\n",
    "# --- End of function definition ---"
   ]
  },
  {
   "cell_type": "markdown",
   "id": "7cc3cddd-e268-48b1-949f-ba670bc03872",
   "metadata": {},
   "source": [
    "## Converting numpy array to pandas dataframe"
   ]
  },
  {
   "cell_type": "code",
   "execution_count": 26,
   "id": "9c877440-9733-4673-ad20-5d7a2e8b9645",
   "metadata": {},
   "outputs": [],
   "source": [
    "var_count = X_train.shape[1]\n",
    "train_count = X_train.shape[0]\n",
    "test_count = X_test.shape[0]\n",
    "var_list = [\"v_\"+str(i) for i in range(1, var_count+1)]"
   ]
  },
  {
   "cell_type": "code",
   "execution_count": 27,
   "id": "1cadabb3-5e65-4870-bc34-d02bf591652b",
   "metadata": {},
   "outputs": [],
   "source": [
    "X_train_df = pd.DataFrame(X_train, columns=var_list)\n",
    "X_test_df = pd.DataFrame(X_test, columns=var_list)\n",
    "y_train_df = pd.DataFrame(y_train, columns=['y'])"
   ]
  },
  {
   "cell_type": "code",
   "execution_count": 28,
   "id": "667650d2-bdc6-4b48-b892-fd11e298ee08",
   "metadata": {},
   "outputs": [
    {
     "data": {
      "text/html": [
       "<div>\n",
       "<style scoped>\n",
       "    .dataframe tbody tr th:only-of-type {\n",
       "        vertical-align: middle;\n",
       "    }\n",
       "\n",
       "    .dataframe tbody tr th {\n",
       "        vertical-align: top;\n",
       "    }\n",
       "\n",
       "    .dataframe thead th {\n",
       "        text-align: right;\n",
       "    }\n",
       "</style>\n",
       "<table border=\"1\" class=\"dataframe\">\n",
       "  <thead>\n",
       "    <tr style=\"text-align: right;\">\n",
       "      <th></th>\n",
       "      <th>v_1</th>\n",
       "      <th>v_2</th>\n",
       "      <th>v_3</th>\n",
       "      <th>v_4</th>\n",
       "      <th>v_5</th>\n",
       "      <th>v_6</th>\n",
       "      <th>v_7</th>\n",
       "      <th>v_8</th>\n",
       "      <th>v_9</th>\n",
       "      <th>v_10</th>\n",
       "    </tr>\n",
       "  </thead>\n",
       "  <tbody>\n",
       "    <tr>\n",
       "      <th>0</th>\n",
       "      <td>-1.030086</td>\n",
       "      <td>0.744488</td>\n",
       "      <td>0.937688</td>\n",
       "      <td>-1.909721</td>\n",
       "      <td>0.441239</td>\n",
       "      <td>-1.749620</td>\n",
       "      <td>0.077734</td>\n",
       "      <td>1.137308</td>\n",
       "      <td>0.370874</td>\n",
       "      <td>0.155145</td>\n",
       "    </tr>\n",
       "    <tr>\n",
       "      <th>1</th>\n",
       "      <td>0.151172</td>\n",
       "      <td>0.386191</td>\n",
       "      <td>-0.422696</td>\n",
       "      <td>1.739644</td>\n",
       "      <td>0.588353</td>\n",
       "      <td>-0.008641</td>\n",
       "      <td>0.670548</td>\n",
       "      <td>0.985404</td>\n",
       "      <td>0.032382</td>\n",
       "      <td>-1.376448</td>\n",
       "    </tr>\n",
       "  </tbody>\n",
       "</table>\n",
       "</div>"
      ],
      "text/plain": [
       "        v_1       v_2       v_3       v_4       v_5       v_6       v_7  \\\n",
       "0 -1.030086  0.744488  0.937688 -1.909721  0.441239 -1.749620  0.077734   \n",
       "1  0.151172  0.386191 -0.422696  1.739644  0.588353 -0.008641  0.670548   \n",
       "\n",
       "        v_8       v_9      v_10  \n",
       "0  1.137308  0.370874  0.155145  \n",
       "1  0.985404  0.032382 -1.376448  "
      ]
     },
     "execution_count": 28,
     "metadata": {},
     "output_type": "execute_result"
    }
   ],
   "source": [
    "X_train_df.head(2)"
   ]
  },
  {
   "cell_type": "code",
   "execution_count": 29,
   "id": "bc1da4be-06cb-4412-a913-3a1de2e221d7",
   "metadata": {},
   "outputs": [
    {
     "data": {
      "text/html": [
       "<div>\n",
       "<style scoped>\n",
       "    .dataframe tbody tr th:only-of-type {\n",
       "        vertical-align: middle;\n",
       "    }\n",
       "\n",
       "    .dataframe tbody tr th {\n",
       "        vertical-align: top;\n",
       "    }\n",
       "\n",
       "    .dataframe thead th {\n",
       "        text-align: right;\n",
       "    }\n",
       "</style>\n",
       "<table border=\"1\" class=\"dataframe\">\n",
       "  <thead>\n",
       "    <tr style=\"text-align: right;\">\n",
       "      <th></th>\n",
       "      <th>v_1</th>\n",
       "      <th>v_2</th>\n",
       "      <th>v_3</th>\n",
       "      <th>v_4</th>\n",
       "      <th>v_5</th>\n",
       "      <th>v_6</th>\n",
       "      <th>v_7</th>\n",
       "      <th>v_8</th>\n",
       "      <th>v_9</th>\n",
       "      <th>v_10</th>\n",
       "    </tr>\n",
       "  </thead>\n",
       "  <tbody>\n",
       "    <tr>\n",
       "      <th>0</th>\n",
       "      <td>-0.178913</td>\n",
       "      <td>-1.270879</td>\n",
       "      <td>0.445100</td>\n",
       "      <td>1.547729</td>\n",
       "      <td>0.546413</td>\n",
       "      <td>2.377554</td>\n",
       "      <td>-1.125253</td>\n",
       "      <td>-0.017077</td>\n",
       "      <td>1.419819</td>\n",
       "      <td>-0.629672</td>\n",
       "    </tr>\n",
       "    <tr>\n",
       "      <th>1</th>\n",
       "      <td>-2.479271</td>\n",
       "      <td>-0.870515</td>\n",
       "      <td>0.205303</td>\n",
       "      <td>-0.995020</td>\n",
       "      <td>2.805032</td>\n",
       "      <td>2.656087</td>\n",
       "      <td>0.779858</td>\n",
       "      <td>1.628302</td>\n",
       "      <td>1.201014</td>\n",
       "      <td>0.155298</td>\n",
       "    </tr>\n",
       "  </tbody>\n",
       "</table>\n",
       "</div>"
      ],
      "text/plain": [
       "        v_1       v_2       v_3       v_4       v_5       v_6       v_7  \\\n",
       "0 -0.178913 -1.270879  0.445100  1.547729  0.546413  2.377554 -1.125253   \n",
       "1 -2.479271 -0.870515  0.205303 -0.995020  2.805032  2.656087  0.779858   \n",
       "\n",
       "        v_8       v_9      v_10  \n",
       "0 -0.017077  1.419819 -0.629672  \n",
       "1  1.628302  1.201014  0.155298  "
      ]
     },
     "execution_count": 29,
     "metadata": {},
     "output_type": "execute_result"
    }
   ],
   "source": [
    "X_test_df.head(2)"
   ]
  },
  {
   "cell_type": "code",
   "execution_count": 30,
   "id": "cb7d1af7-3219-42fc-a991-d7c042e641a2",
   "metadata": {},
   "outputs": [
    {
     "data": {
      "text/html": [
       "<div>\n",
       "<style scoped>\n",
       "    .dataframe tbody tr th:only-of-type {\n",
       "        vertical-align: middle;\n",
       "    }\n",
       "\n",
       "    .dataframe tbody tr th {\n",
       "        vertical-align: top;\n",
       "    }\n",
       "\n",
       "    .dataframe thead th {\n",
       "        text-align: right;\n",
       "    }\n",
       "</style>\n",
       "<table border=\"1\" class=\"dataframe\">\n",
       "  <thead>\n",
       "    <tr style=\"text-align: right;\">\n",
       "      <th></th>\n",
       "      <th>y</th>\n",
       "    </tr>\n",
       "  </thead>\n",
       "  <tbody>\n",
       "    <tr>\n",
       "      <th>0</th>\n",
       "      <td>16.566999</td>\n",
       "    </tr>\n",
       "    <tr>\n",
       "      <th>1</th>\n",
       "      <td>13.711711</td>\n",
       "    </tr>\n",
       "  </tbody>\n",
       "</table>\n",
       "</div>"
      ],
      "text/plain": [
       "           y\n",
       "0  16.566999\n",
       "1  13.711711"
      ]
     },
     "execution_count": 30,
     "metadata": {},
     "output_type": "execute_result"
    }
   ],
   "source": [
    "y_train_df.head(2)"
   ]
  },
  {
   "cell_type": "markdown",
   "id": "8ab74d70-10c7-4da7-898e-766ed11f8fa9",
   "metadata": {},
   "source": [
    "## EDA\n",
    "1. Getting null count\n",
    "2. Getting distributions of each feature\n",
    "3. Getting spread of each feature w.r.t y"
   ]
  },
  {
   "cell_type": "code",
   "execution_count": 31,
   "id": "26a7b3f9-6f4c-4795-9b74-6251baeac019",
   "metadata": {},
   "outputs": [
    {
     "data": {
      "text/html": [
       "<div>\n",
       "<style scoped>\n",
       "    .dataframe tbody tr th:only-of-type {\n",
       "        vertical-align: middle;\n",
       "    }\n",
       "\n",
       "    .dataframe tbody tr th {\n",
       "        vertical-align: top;\n",
       "    }\n",
       "\n",
       "    .dataframe thead th {\n",
       "        text-align: right;\n",
       "    }\n",
       "</style>\n",
       "<table border=\"1\" class=\"dataframe\">\n",
       "  <thead>\n",
       "    <tr style=\"text-align: right;\">\n",
       "      <th></th>\n",
       "      <th>v_1</th>\n",
       "      <th>v_2</th>\n",
       "      <th>v_3</th>\n",
       "      <th>v_4</th>\n",
       "      <th>v_5</th>\n",
       "      <th>v_6</th>\n",
       "      <th>v_7</th>\n",
       "      <th>v_8</th>\n",
       "      <th>v_9</th>\n",
       "      <th>v_10</th>\n",
       "    </tr>\n",
       "  </thead>\n",
       "  <tbody>\n",
       "    <tr>\n",
       "      <th>count</th>\n",
       "      <td>8000.000000</td>\n",
       "      <td>8000.000000</td>\n",
       "      <td>8000.000000</td>\n",
       "      <td>8000.000000</td>\n",
       "      <td>8000.000000</td>\n",
       "      <td>8000.000000</td>\n",
       "      <td>8000.000000</td>\n",
       "      <td>8000.000000</td>\n",
       "      <td>8000.000000</td>\n",
       "      <td>8000.000000</td>\n",
       "    </tr>\n",
       "    <tr>\n",
       "      <th>mean</th>\n",
       "      <td>0.005068</td>\n",
       "      <td>0.003536</td>\n",
       "      <td>0.002277</td>\n",
       "      <td>-0.018162</td>\n",
       "      <td>0.791757</td>\n",
       "      <td>0.028068</td>\n",
       "      <td>-0.003231</td>\n",
       "      <td>0.800376</td>\n",
       "      <td>-0.000086</td>\n",
       "      <td>0.009396</td>\n",
       "    </tr>\n",
       "    <tr>\n",
       "      <th>std</th>\n",
       "      <td>1.005833</td>\n",
       "      <td>0.999082</td>\n",
       "      <td>0.577940</td>\n",
       "      <td>1.160943</td>\n",
       "      <td>0.601678</td>\n",
       "      <td>1.446540</td>\n",
       "      <td>0.989907</td>\n",
       "      <td>1.177576</td>\n",
       "      <td>1.008131</td>\n",
       "      <td>1.011339</td>\n",
       "    </tr>\n",
       "    <tr>\n",
       "      <th>min</th>\n",
       "      <td>-3.721005</td>\n",
       "      <td>-3.648331</td>\n",
       "      <td>-0.999782</td>\n",
       "      <td>-1.999753</td>\n",
       "      <td>0.000117</td>\n",
       "      <td>-8.682783</td>\n",
       "      <td>-3.603690</td>\n",
       "      <td>-3.221563</td>\n",
       "      <td>-4.507306</td>\n",
       "      <td>-3.693629</td>\n",
       "    </tr>\n",
       "    <tr>\n",
       "      <th>25%</th>\n",
       "      <td>-0.676857</td>\n",
       "      <td>-0.673515</td>\n",
       "      <td>-0.497092</td>\n",
       "      <td>-1.032125</td>\n",
       "      <td>0.311250</td>\n",
       "      <td>-0.661313</td>\n",
       "      <td>-0.681760</td>\n",
       "      <td>0.001374</td>\n",
       "      <td>-0.677126</td>\n",
       "      <td>-0.673832</td>\n",
       "    </tr>\n",
       "    <tr>\n",
       "      <th>50%</th>\n",
       "      <td>-0.008288</td>\n",
       "      <td>-0.009898</td>\n",
       "      <td>0.000410</td>\n",
       "      <td>-0.029931</td>\n",
       "      <td>0.667525</td>\n",
       "      <td>0.023345</td>\n",
       "      <td>0.010970</td>\n",
       "      <td>0.750908</td>\n",
       "      <td>0.010491</td>\n",
       "      <td>0.022640</td>\n",
       "    </tr>\n",
       "    <tr>\n",
       "      <th>75%</th>\n",
       "      <td>0.697822</td>\n",
       "      <td>0.665128</td>\n",
       "      <td>0.509849</td>\n",
       "      <td>0.978363</td>\n",
       "      <td>1.141792</td>\n",
       "      <td>0.699970</td>\n",
       "      <td>0.673435</td>\n",
       "      <td>1.571433</td>\n",
       "      <td>0.664620</td>\n",
       "      <td>0.705872</td>\n",
       "    </tr>\n",
       "    <tr>\n",
       "      <th>max</th>\n",
       "      <td>3.337348</td>\n",
       "      <td>3.971553</td>\n",
       "      <td>0.999837</td>\n",
       "      <td>1.999695</td>\n",
       "      <td>3.793571</td>\n",
       "      <td>9.275228</td>\n",
       "      <td>3.585471</td>\n",
       "      <td>5.956151</td>\n",
       "      <td>3.467832</td>\n",
       "      <td>3.936592</td>\n",
       "    </tr>\n",
       "  </tbody>\n",
       "</table>\n",
       "</div>"
      ],
      "text/plain": [
       "               v_1          v_2          v_3          v_4          v_5  \\\n",
       "count  8000.000000  8000.000000  8000.000000  8000.000000  8000.000000   \n",
       "mean      0.005068     0.003536     0.002277    -0.018162     0.791757   \n",
       "std       1.005833     0.999082     0.577940     1.160943     0.601678   \n",
       "min      -3.721005    -3.648331    -0.999782    -1.999753     0.000117   \n",
       "25%      -0.676857    -0.673515    -0.497092    -1.032125     0.311250   \n",
       "50%      -0.008288    -0.009898     0.000410    -0.029931     0.667525   \n",
       "75%       0.697822     0.665128     0.509849     0.978363     1.141792   \n",
       "max       3.337348     3.971553     0.999837     1.999695     3.793571   \n",
       "\n",
       "               v_6          v_7          v_8          v_9         v_10  \n",
       "count  8000.000000  8000.000000  8000.000000  8000.000000  8000.000000  \n",
       "mean      0.028068    -0.003231     0.800376    -0.000086     0.009396  \n",
       "std       1.446540     0.989907     1.177576     1.008131     1.011339  \n",
       "min      -8.682783    -3.603690    -3.221563    -4.507306    -3.693629  \n",
       "25%      -0.661313    -0.681760     0.001374    -0.677126    -0.673832  \n",
       "50%       0.023345     0.010970     0.750908     0.010491     0.022640  \n",
       "75%       0.699970     0.673435     1.571433     0.664620     0.705872  \n",
       "max       9.275228     3.585471     5.956151     3.467832     3.936592  "
      ]
     },
     "execution_count": 31,
     "metadata": {},
     "output_type": "execute_result"
    }
   ],
   "source": [
    "X_train_df.describe()"
   ]
  },
  {
   "cell_type": "code",
   "execution_count": 32,
   "id": "8ef1f750-239c-41ce-bb14-23d8b7c09b6d",
   "metadata": {},
   "outputs": [
    {
     "data": {
      "text/html": [
       "<div>\n",
       "<style scoped>\n",
       "    .dataframe tbody tr th:only-of-type {\n",
       "        vertical-align: middle;\n",
       "    }\n",
       "\n",
       "    .dataframe tbody tr th {\n",
       "        vertical-align: top;\n",
       "    }\n",
       "\n",
       "    .dataframe thead th {\n",
       "        text-align: right;\n",
       "    }\n",
       "</style>\n",
       "<table border=\"1\" class=\"dataframe\">\n",
       "  <thead>\n",
       "    <tr style=\"text-align: right;\">\n",
       "      <th></th>\n",
       "      <th>v_1</th>\n",
       "      <th>v_2</th>\n",
       "      <th>v_3</th>\n",
       "      <th>v_4</th>\n",
       "      <th>v_5</th>\n",
       "      <th>v_6</th>\n",
       "      <th>v_7</th>\n",
       "      <th>v_8</th>\n",
       "      <th>v_9</th>\n",
       "      <th>v_10</th>\n",
       "    </tr>\n",
       "  </thead>\n",
       "  <tbody>\n",
       "    <tr>\n",
       "      <th>count</th>\n",
       "      <td>16000.000000</td>\n",
       "      <td>16000.000000</td>\n",
       "      <td>16000.000000</td>\n",
       "      <td>16000.000000</td>\n",
       "      <td>16000.000000</td>\n",
       "      <td>16000.000000</td>\n",
       "      <td>16000.000000</td>\n",
       "      <td>16000.000000</td>\n",
       "      <td>16000.000000</td>\n",
       "      <td>16000.000000</td>\n",
       "    </tr>\n",
       "    <tr>\n",
       "      <th>mean</th>\n",
       "      <td>0.006206</td>\n",
       "      <td>-0.004799</td>\n",
       "      <td>0.003992</td>\n",
       "      <td>-0.003041</td>\n",
       "      <td>0.796917</td>\n",
       "      <td>0.000878</td>\n",
       "      <td>0.012057</td>\n",
       "      <td>0.802917</td>\n",
       "      <td>-0.012733</td>\n",
       "      <td>-0.004089</td>\n",
       "    </tr>\n",
       "    <tr>\n",
       "      <th>std</th>\n",
       "      <td>0.992939</td>\n",
       "      <td>1.002004</td>\n",
       "      <td>0.575552</td>\n",
       "      <td>1.156562</td>\n",
       "      <td>0.603124</td>\n",
       "      <td>1.414488</td>\n",
       "      <td>0.997495</td>\n",
       "      <td>1.169840</td>\n",
       "      <td>1.005042</td>\n",
       "      <td>0.991637</td>\n",
       "    </tr>\n",
       "    <tr>\n",
       "      <th>min</th>\n",
       "      <td>-3.975253</td>\n",
       "      <td>-3.834519</td>\n",
       "      <td>-0.999789</td>\n",
       "      <td>-1.999749</td>\n",
       "      <td>0.000074</td>\n",
       "      <td>-8.807018</td>\n",
       "      <td>-3.935102</td>\n",
       "      <td>-3.618808</td>\n",
       "      <td>-4.061024</td>\n",
       "      <td>-3.772752</td>\n",
       "    </tr>\n",
       "    <tr>\n",
       "      <th>25%</th>\n",
       "      <td>-0.666759</td>\n",
       "      <td>-0.685560</td>\n",
       "      <td>-0.497540</td>\n",
       "      <td>-1.004158</td>\n",
       "      <td>0.315657</td>\n",
       "      <td>-0.704174</td>\n",
       "      <td>-0.662492</td>\n",
       "      <td>0.000807</td>\n",
       "      <td>-0.698899</td>\n",
       "      <td>-0.666906</td>\n",
       "    </tr>\n",
       "    <tr>\n",
       "      <th>50%</th>\n",
       "      <td>0.003192</td>\n",
       "      <td>-0.007288</td>\n",
       "      <td>0.011670</td>\n",
       "      <td>-0.005898</td>\n",
       "      <td>0.677455</td>\n",
       "      <td>0.008730</td>\n",
       "      <td>0.026640</td>\n",
       "      <td>0.775136</td>\n",
       "      <td>-0.017685</td>\n",
       "      <td>-0.008515</td>\n",
       "    </tr>\n",
       "    <tr>\n",
       "      <th>75%</th>\n",
       "      <td>0.665233</td>\n",
       "      <td>0.678514</td>\n",
       "      <td>0.499902</td>\n",
       "      <td>1.001257</td>\n",
       "      <td>1.140801</td>\n",
       "      <td>0.687893</td>\n",
       "      <td>0.685748</td>\n",
       "      <td>1.559246</td>\n",
       "      <td>0.661844</td>\n",
       "      <td>0.656895</td>\n",
       "    </tr>\n",
       "    <tr>\n",
       "      <th>max</th>\n",
       "      <td>4.164257</td>\n",
       "      <td>3.451266</td>\n",
       "      <td>0.999755</td>\n",
       "      <td>1.999616</td>\n",
       "      <td>4.808237</td>\n",
       "      <td>10.108952</td>\n",
       "      <td>3.910771</td>\n",
       "      <td>6.293528</td>\n",
       "      <td>3.817236</td>\n",
       "      <td>3.999258</td>\n",
       "    </tr>\n",
       "  </tbody>\n",
       "</table>\n",
       "</div>"
      ],
      "text/plain": [
       "                v_1           v_2           v_3           v_4           v_5  \\\n",
       "count  16000.000000  16000.000000  16000.000000  16000.000000  16000.000000   \n",
       "mean       0.006206     -0.004799      0.003992     -0.003041      0.796917   \n",
       "std        0.992939      1.002004      0.575552      1.156562      0.603124   \n",
       "min       -3.975253     -3.834519     -0.999789     -1.999749      0.000074   \n",
       "25%       -0.666759     -0.685560     -0.497540     -1.004158      0.315657   \n",
       "50%        0.003192     -0.007288      0.011670     -0.005898      0.677455   \n",
       "75%        0.665233      0.678514      0.499902      1.001257      1.140801   \n",
       "max        4.164257      3.451266      0.999755      1.999616      4.808237   \n",
       "\n",
       "                v_6           v_7           v_8           v_9          v_10  \n",
       "count  16000.000000  16000.000000  16000.000000  16000.000000  16000.000000  \n",
       "mean       0.000878      0.012057      0.802917     -0.012733     -0.004089  \n",
       "std        1.414488      0.997495      1.169840      1.005042      0.991637  \n",
       "min       -8.807018     -3.935102     -3.618808     -4.061024     -3.772752  \n",
       "25%       -0.704174     -0.662492      0.000807     -0.698899     -0.666906  \n",
       "50%        0.008730      0.026640      0.775136     -0.017685     -0.008515  \n",
       "75%        0.687893      0.685748      1.559246      0.661844      0.656895  \n",
       "max       10.108952      3.910771      6.293528      3.817236      3.999258  "
      ]
     },
     "execution_count": 32,
     "metadata": {},
     "output_type": "execute_result"
    }
   ],
   "source": [
    "X_test_df.describe()"
   ]
  },
  {
   "cell_type": "code",
   "execution_count": 33,
   "id": "934fe98d-cf3e-4c41-a582-c9413885cdb7",
   "metadata": {},
   "outputs": [
    {
     "data": {
      "text/html": [
       "<div>\n",
       "<style scoped>\n",
       "    .dataframe tbody tr th:only-of-type {\n",
       "        vertical-align: middle;\n",
       "    }\n",
       "\n",
       "    .dataframe tbody tr th {\n",
       "        vertical-align: top;\n",
       "    }\n",
       "\n",
       "    .dataframe thead th {\n",
       "        text-align: right;\n",
       "    }\n",
       "</style>\n",
       "<table border=\"1\" class=\"dataframe\">\n",
       "  <thead>\n",
       "    <tr style=\"text-align: right;\">\n",
       "      <th></th>\n",
       "      <th>y</th>\n",
       "    </tr>\n",
       "  </thead>\n",
       "  <tbody>\n",
       "    <tr>\n",
       "      <th>count</th>\n",
       "      <td>8000.000000</td>\n",
       "    </tr>\n",
       "    <tr>\n",
       "      <th>mean</th>\n",
       "      <td>12.087922</td>\n",
       "    </tr>\n",
       "    <tr>\n",
       "      <th>std</th>\n",
       "      <td>3.637855</td>\n",
       "    </tr>\n",
       "    <tr>\n",
       "      <th>min</th>\n",
       "      <td>-8.224462</td>\n",
       "    </tr>\n",
       "    <tr>\n",
       "      <th>25%</th>\n",
       "      <td>10.007004</td>\n",
       "    </tr>\n",
       "    <tr>\n",
       "      <th>50%</th>\n",
       "      <td>12.243604</td>\n",
       "    </tr>\n",
       "    <tr>\n",
       "      <th>75%</th>\n",
       "      <td>14.303835</td>\n",
       "    </tr>\n",
       "    <tr>\n",
       "      <th>max</th>\n",
       "      <td>30.786868</td>\n",
       "    </tr>\n",
       "  </tbody>\n",
       "</table>\n",
       "</div>"
      ],
      "text/plain": [
       "                 y\n",
       "count  8000.000000\n",
       "mean     12.087922\n",
       "std       3.637855\n",
       "min      -8.224462\n",
       "25%      10.007004\n",
       "50%      12.243604\n",
       "75%      14.303835\n",
       "max      30.786868"
      ]
     },
     "execution_count": 33,
     "metadata": {},
     "output_type": "execute_result"
    }
   ],
   "source": [
    "y_train_df.describe()"
   ]
  },
  {
   "cell_type": "code",
   "execution_count": null,
   "id": "145f61a9-1451-410a-af01-f4a9443a04ad",
   "metadata": {},
   "outputs": [],
   "source": []
  },
  {
   "cell_type": "code",
   "execution_count": 34,
   "id": "b368dc95-b282-4a5d-b528-cc22f56d3b1d",
   "metadata": {},
   "outputs": [],
   "source": [
    "import math"
   ]
  },
  {
   "cell_type": "code",
   "execution_count": 313,
   "id": "9035dc75-8da2-4152-998b-d0347cd9186e",
   "metadata": {},
   "outputs": [],
   "source": [
    "def sqr_transform(x):\n",
    "    # if(abs(round(x**2, 5))<1e-4):\n",
    "    #     print(x, abs(round(x**2, 5)))\n",
    "    return(x**2)\n",
    "\n",
    "def exp_transform(x):\n",
    "    return(math.exp(x))"
   ]
  },
  {
   "cell_type": "code",
   "execution_count": 315,
   "id": "b000d3fd-c090-469e-b2cf-8815a0846c73",
   "metadata": {},
   "outputs": [
    {
     "data": {
      "image/png": "[encoded data removed]",
      "text/plain": [
       "<Figure size 1000x2000 with 10 Axes>"
      ]
     },
     "metadata": {},
     "output_type": "display_data"
    }
   ],
   "source": [
    "\n",
    "selected_var_dict = {'v_1': None, 'v_2': None, 'v_3': None, 'v_4': None, 'v_5': None, \n",
    "                     'v_6': None, 'v_7': sqr_transform, 'v_8': sqr_transform, 'v_9': None, 'v_10': sqr_transform}\n",
    "\n",
    "# 1. Determine the grid size\n",
    "cols = 2  # You can adjust this\n",
    "rows = math.ceil(var_count / cols)\n",
    "\n",
    "# 2. Create the figure and subplots\n",
    "fig, axes = plt.subplots(rows, cols, figsize=(cols * 5, rows * 4), constrained_layout=True)\n",
    "\n",
    "# 3. Flatten the axes array and loop through variables and axes\n",
    "for var_name, ax in zip(var_list, axes.flatten()):\n",
    "    # Prepare the data for the current variable\n",
    "    if(selected_var_dict[var_name] == None):\n",
    "        title_ = \"No Transformation\"\n",
    "        data_to_plot = np.array(X_train_df[var_name])\n",
    "    else:\n",
    "        title_ = str(selected_var_dict[var_name]).split()[1]\n",
    "        data_to_plot = np.array(X_train_df[var_name].apply(selected_var_dict[var_name]))\n",
    "\n",
    "    # Call your plotting function, passing the specific axis `ax` to it\n",
    "    quantile_plot(x=data_to_plot, y=y_train, ax=ax, bins=10)\n",
    "\n",
    "    # Set a title for each individual subplot\n",
    "    ax.set_title(f'Plot for {var_name}, {title_}')\n",
    "\n",
    "# 4. Turn off any unused subplots\n",
    "for i in range(var_count, len(axes.flatten())):\n",
    "    axes.flatten()[i].axis('off')\n",
    "\n",
    "# 5. Show the final plot\n",
    "plt.show()"
   ]
  },
  {
   "cell_type": "code",
   "execution_count": 316,
   "id": "e799c9ab-933b-4d48-89bd-7b26d544cfc5",
   "metadata": {},
   "outputs": [
    {
     "data": {
      "text/html": [
       "<div>\n",
       "<style scoped>\n",
       "    .dataframe tbody tr th:only-of-type {\n",
       "        vertical-align: middle;\n",
       "    }\n",
       "\n",
       "    .dataframe tbody tr th {\n",
       "        vertical-align: top;\n",
       "    }\n",
       "\n",
       "    .dataframe thead th {\n",
       "        text-align: right;\n",
       "    }\n",
       "</style>\n",
       "<table border=\"1\" class=\"dataframe\">\n",
       "  <thead>\n",
       "    <tr style=\"text-align: right;\">\n",
       "      <th></th>\n",
       "      <th>v_1</th>\n",
       "      <th>v_2</th>\n",
       "      <th>v_3</th>\n",
       "      <th>v_4</th>\n",
       "      <th>v_5</th>\n",
       "      <th>v_6</th>\n",
       "      <th>v_7</th>\n",
       "      <th>v_8</th>\n",
       "      <th>v_9</th>\n",
       "      <th>v_10</th>\n",
       "    </tr>\n",
       "  </thead>\n",
       "  <tbody>\n",
       "    <tr>\n",
       "      <th>v_1</th>\n",
       "      <td>1.000000</td>\n",
       "      <td>0.006792</td>\n",
       "      <td>-0.018348</td>\n",
       "      <td>-0.008427</td>\n",
       "      <td>0.014166</td>\n",
       "      <td>-0.000889</td>\n",
       "      <td>0.006541</td>\n",
       "      <td>-0.002595</td>\n",
       "      <td>0.011776</td>\n",
       "      <td>-0.006050</td>\n",
       "    </tr>\n",
       "    <tr>\n",
       "      <th>v_2</th>\n",
       "      <td>0.006792</td>\n",
       "      <td>1.000000</td>\n",
       "      <td>0.000226</td>\n",
       "      <td>-0.002990</td>\n",
       "      <td>0.012700</td>\n",
       "      <td>0.009972</td>\n",
       "      <td>0.001880</td>\n",
       "      <td>0.008801</td>\n",
       "      <td>-0.015455</td>\n",
       "      <td>0.007678</td>\n",
       "    </tr>\n",
       "    <tr>\n",
       "      <th>v_3</th>\n",
       "      <td>-0.018348</td>\n",
       "      <td>0.000226</td>\n",
       "      <td>1.000000</td>\n",
       "      <td>0.012148</td>\n",
       "      <td>-0.004161</td>\n",
       "      <td>0.002129</td>\n",
       "      <td>-0.019640</td>\n",
       "      <td>0.001058</td>\n",
       "      <td>-0.000673</td>\n",
       "      <td>0.006548</td>\n",
       "    </tr>\n",
       "    <tr>\n",
       "      <th>v_4</th>\n",
       "      <td>-0.008427</td>\n",
       "      <td>-0.002990</td>\n",
       "      <td>0.012148</td>\n",
       "      <td>1.000000</td>\n",
       "      <td>0.016135</td>\n",
       "      <td>-0.009241</td>\n",
       "      <td>0.016548</td>\n",
       "      <td>-0.000486</td>\n",
       "      <td>0.009769</td>\n",
       "      <td>0.009724</td>\n",
       "    </tr>\n",
       "    <tr>\n",
       "      <th>v_5</th>\n",
       "      <td>0.014166</td>\n",
       "      <td>0.012700</td>\n",
       "      <td>-0.004161</td>\n",
       "      <td>0.016135</td>\n",
       "      <td>1.000000</td>\n",
       "      <td>-0.005617</td>\n",
       "      <td>-0.018418</td>\n",
       "      <td>0.521828</td>\n",
       "      <td>-0.001536</td>\n",
       "      <td>-0.003298</td>\n",
       "    </tr>\n",
       "    <tr>\n",
       "      <th>v_6</th>\n",
       "      <td>-0.000889</td>\n",
       "      <td>0.009972</td>\n",
       "      <td>0.002129</td>\n",
       "      <td>-0.009241</td>\n",
       "      <td>-0.005617</td>\n",
       "      <td>1.000000</td>\n",
       "      <td>0.010839</td>\n",
       "      <td>0.005707</td>\n",
       "      <td>-0.002229</td>\n",
       "      <td>-0.009870</td>\n",
       "    </tr>\n",
       "    <tr>\n",
       "      <th>v_7</th>\n",
       "      <td>0.006541</td>\n",
       "      <td>0.001880</td>\n",
       "      <td>-0.019640</td>\n",
       "      <td>0.016548</td>\n",
       "      <td>-0.018418</td>\n",
       "      <td>0.010839</td>\n",
       "      <td>1.000000</td>\n",
       "      <td>-0.014214</td>\n",
       "      <td>-0.000104</td>\n",
       "      <td>-0.000611</td>\n",
       "    </tr>\n",
       "    <tr>\n",
       "      <th>v_8</th>\n",
       "      <td>-0.002595</td>\n",
       "      <td>0.008801</td>\n",
       "      <td>0.001058</td>\n",
       "      <td>-0.000486</td>\n",
       "      <td>0.521828</td>\n",
       "      <td>0.005707</td>\n",
       "      <td>-0.014214</td>\n",
       "      <td>1.000000</td>\n",
       "      <td>-0.002590</td>\n",
       "      <td>-0.011451</td>\n",
       "    </tr>\n",
       "    <tr>\n",
       "      <th>v_9</th>\n",
       "      <td>0.011776</td>\n",
       "      <td>-0.015455</td>\n",
       "      <td>-0.000673</td>\n",
       "      <td>0.009769</td>\n",
       "      <td>-0.001536</td>\n",
       "      <td>-0.002229</td>\n",
       "      <td>-0.000104</td>\n",
       "      <td>-0.002590</td>\n",
       "      <td>1.000000</td>\n",
       "      <td>-0.001182</td>\n",
       "    </tr>\n",
       "    <tr>\n",
       "      <th>v_10</th>\n",
       "      <td>-0.006050</td>\n",
       "      <td>0.007678</td>\n",
       "      <td>0.006548</td>\n",
       "      <td>0.009724</td>\n",
       "      <td>-0.003298</td>\n",
       "      <td>-0.009870</td>\n",
       "      <td>-0.000611</td>\n",
       "      <td>-0.011451</td>\n",
       "      <td>-0.001182</td>\n",
       "      <td>1.000000</td>\n",
       "    </tr>\n",
       "  </tbody>\n",
       "</table>\n",
       "</div>"
      ],
      "text/plain": [
       "           v_1       v_2       v_3       v_4       v_5       v_6       v_7  \\\n",
       "v_1   1.000000  0.006792 -0.018348 -0.008427  0.014166 -0.000889  0.006541   \n",
       "v_2   0.006792  1.000000  0.000226 -0.002990  0.012700  0.009972  0.001880   \n",
       "v_3  -0.018348  0.000226  1.000000  0.012148 -0.004161  0.002129 -0.019640   \n",
       "v_4  -0.008427 -0.002990  0.012148  1.000000  0.016135 -0.009241  0.016548   \n",
       "v_5   0.014166  0.012700 -0.004161  0.016135  1.000000 -0.005617 -0.018418   \n",
       "v_6  -0.000889  0.009972  0.002129 -0.009241 -0.005617  1.000000  0.010839   \n",
       "v_7   0.006541  0.001880 -0.019640  0.016548 -0.018418  0.010839  1.000000   \n",
       "v_8  -0.002595  0.008801  0.001058 -0.000486  0.521828  0.005707 -0.014214   \n",
       "v_9   0.011776 -0.015455 -0.000673  0.009769 -0.001536 -0.002229 -0.000104   \n",
       "v_10 -0.006050  0.007678  0.006548  0.009724 -0.003298 -0.009870 -0.000611   \n",
       "\n",
       "           v_8       v_9      v_10  \n",
       "v_1  -0.002595  0.011776 -0.006050  \n",
       "v_2   0.008801 -0.015455  0.007678  \n",
       "v_3   0.001058 -0.000673  0.006548  \n",
       "v_4  -0.000486  0.009769  0.009724  \n",
       "v_5   0.521828 -0.001536 -0.003298  \n",
       "v_6   0.005707 -0.002229 -0.009870  \n",
       "v_7  -0.014214 -0.000104 -0.000611  \n",
       "v_8   1.000000 -0.002590 -0.011451  \n",
       "v_9  -0.002590  1.000000 -0.001182  \n",
       "v_10 -0.011451 -0.001182  1.000000  "
      ]
     },
     "execution_count": 316,
     "metadata": {},
     "output_type": "execute_result"
    }
   ],
   "source": [
    "X_train_df.corr()"
   ]
  },
  {
   "cell_type": "code",
   "execution_count": 317,
   "id": "cd936f54-dffe-48d7-9783-1b9a18196113",
   "metadata": {},
   "outputs": [
    {
     "data": {
      "text/plain": [
       "<Axes: >"
      ]
     },
     "execution_count": 317,
     "metadata": {},
     "output_type": "execute_result"
    },
    {
     "data": {
      "image/png": "[encoded data removed]",
      "text/plain": [
       "<Figure size 640x480 with 2 Axes>"
      ]
     },
     "metadata": {},
     "output_type": "display_data"
    }
   ],
   "source": [
    "sns.heatmap(X_train_df.corr())"
   ]
  },
  {
   "cell_type": "code",
   "execution_count": null,
   "id": "4b65c654-4097-4466-8d06-a5cd5942fe1b",
   "metadata": {},
   "outputs": [],
   "source": []
  },
  {
   "cell_type": "markdown",
   "id": "1d06b403-1c8b-4615-b081-5d7f21cd0bc2",
   "metadata": {},
   "source": [
    "### Code for training"
   ]
  },
  {
   "cell_type": "code",
   "execution_count": 318,
   "id": "336f4020-1982-470c-8a95-83bce59c46ee",
   "metadata": {},
   "outputs": [],
   "source": [
    "from sklearn.linear_model import LinearRegression"
   ]
  },
  {
   "cell_type": "code",
   "execution_count": 332,
   "id": "0cdc2943-0635-451f-9ec3-fb7ee3477110",
   "metadata": {},
   "outputs": [],
   "source": [
    "\n",
    "def run_ols(X_df, y, feature_list, transformers):\n",
    "    # print(X_df[feature_list].columns)\n",
    "\n",
    "    X_subset = X_df[feature_list].copy()\n",
    "    for i in range(len(feature_list)):\n",
    "        if transformers[i] != None:\n",
    "            X_subset[feature_list[i]] = X_subset[feature_list[i]].apply(transformers[i])\n",
    "\n",
    "    model = LinearRegression(fit_intercept=True)\n",
    "    model.fit(X_subset, y)\n",
    "\n",
    "    # print(X_df[feature_list].head(2))\n",
    "    # print(X_subset.head(2))\n",
    "    \n",
    "    return model\n",
    "\n",
    "\n",
    "def pred_func(X_df, model, feature_list, transformers):\n",
    "    X_subset = X_df[feature_list].copy()\n",
    "    # print(X_subset.describe())\n",
    "    for i in range(len(feature_list)):\n",
    "        if transformers[i] != None:\n",
    "            X_subset[feature_list[i]] = X_subset[feature_list[i]].apply(transformers[i])\n",
    "\n",
    "    y_pred = model.predict(X_subset)\n",
    "    # print(X_df[feature_list].head(2))\n",
    "    # print(X_subset.head(2))\n",
    "\n",
    "    return y_pred\n",
    "    "
   ]
  },
  {
   "cell_type": "code",
   "execution_count": 333,
   "id": "ebef0933-7a18-4e19-bf61-b6cc0517ec2e",
   "metadata": {},
   "outputs": [],
   "source": [
    "selected_var_dict = {'v_1': None, 'v_3': None, 'v_5': None, \n",
    "                     'v_6': None, 'v_7': None, 'v_10': sqr_transform}\n",
    "vars_skipped = {'v_2': None, 'v_4': None, 'v_9': None}\n",
    "\n",
    "model = run_ols(\n",
    "                X_train_df, y_train,\n",
    "                list(selected_var_dict.keys()), list(selected_var_dict.values())\n",
    "               )"
   ]
  },
  {
   "cell_type": "code",
   "execution_count": 334,
   "id": "b463ce48-3006-4977-954d-d04ec53e2c14",
   "metadata": {},
   "outputs": [
    {
     "name": "stderr",
     "output_type": "stream",
     "text": [
      "/Users/abhishek_shukla/sklearn-env/lib/python3.9/site-packages/sklearn/linear_model/_base.py:279: RuntimeWarning: divide by zero encountered in matmul\n",
      "  return X @ coef_ + self.intercept_\n",
      "/Users/abhishek_shukla/sklearn-env/lib/python3.9/site-packages/sklearn/linear_model/_base.py:279: RuntimeWarning: overflow encountered in matmul\n",
      "  return X @ coef_ + self.intercept_\n",
      "/Users/abhishek_shukla/sklearn-env/lib/python3.9/site-packages/sklearn/linear_model/_base.py:279: RuntimeWarning: invalid value encountered in matmul\n",
      "  return X @ coef_ + self.intercept_\n"
     ]
    }
   ],
   "source": [
    "y_pred = pred_func(\n",
    "                    X_train_df, model, \n",
    "                    list(selected_var_dict.keys()), list(selected_var_dict.values())\n",
    "                  )"
   ]
  },
  {
   "cell_type": "code",
   "execution_count": 335,
   "id": "6115db87-2b64-4a69-97a6-5d59567b0ebc",
   "metadata": {},
   "outputs": [
    {
     "data": {
      "text/plain": [
       "array([-0.58989071,  1.20665938, -1.65516573,  0.6427915 , -0.92299427,\n",
       "        0.55527594])"
      ]
     },
     "execution_count": 335,
     "metadata": {},
     "output_type": "execute_result"
    }
   ],
   "source": [
    "model.coef_"
   ]
  },
  {
   "cell_type": "markdown",
   "id": "62923f9f-eef2-4538-a897-812c879dc59f",
   "metadata": {},
   "source": [
    "### Training Evaluation"
   ]
  },
  {
   "cell_type": "code",
   "execution_count": 336,
   "id": "90547694-2d46-42d7-a30f-c4fb2aaf23d8",
   "metadata": {},
   "outputs": [],
   "source": [
    "def mse(y_pred, y_actual):\n",
    "\n",
    "  y_pred = np.array(y_pred)\n",
    "  y_actual = np.array(y_actual)\n",
    "\n",
    "  errors = y_actual - y_pred\n",
    "\n",
    "  squared_errors = errors ** 2\n",
    "\n",
    "  mean_squared_error = np.mean(squared_errors)\n",
    "\n",
    "  return mean_squared_error\n"
   ]
  },
  {
   "cell_type": "code",
   "execution_count": 337,
   "id": "270ca1ff-6b6f-4dc0-b5e9-3ca22583488d",
   "metadata": {},
   "outputs": [
    {
     "name": "stderr",
     "output_type": "stream",
     "text": [
      "/Users/abhishek_shukla/sklearn-env/lib/python3.9/site-packages/sklearn/linear_model/_base.py:279: RuntimeWarning: divide by zero encountered in matmul\n",
      "  return X @ coef_ + self.intercept_\n",
      "/Users/abhishek_shukla/sklearn-env/lib/python3.9/site-packages/sklearn/linear_model/_base.py:279: RuntimeWarning: overflow encountered in matmul\n",
      "  return X @ coef_ + self.intercept_\n",
      "/Users/abhishek_shukla/sklearn-env/lib/python3.9/site-packages/sklearn/linear_model/_base.py:279: RuntimeWarning: invalid value encountered in matmul\n",
      "  return X @ coef_ + self.intercept_\n"
     ]
    }
   ],
   "source": [
    "y_pred_train = pred_func(X_train_df, model, list(selected_var_dict.keys()), list(selected_var_dict.values()))"
   ]
  },
  {
   "cell_type": "code",
   "execution_count": null,
   "id": "eaab5b6d-d37d-4474-8c8b-c747d0fef29a",
   "metadata": {},
   "outputs": [],
   "source": []
  },
  {
   "cell_type": "code",
   "execution_count": 338,
   "id": "49d92c25-fda9-4df7-8318-5f67221ea669",
   "metadata": {},
   "outputs": [
    {
     "name": "stdout",
     "output_type": "stream",
     "text": [
      "Training Mean Squared Error (naive): 13.232337615310525\n",
      "Training Mean Squared Error (model): 9.048010095390818\n"
     ]
    }
   ],
   "source": [
    "error_naive = mse(np.mean(y_train), y_train)\n",
    "error = mse(y_pred_train, y_train)\n",
    "\n",
    "# Print the result\n",
    "print(f\"Training Mean Squared Error (naive): {error_naive}\")\n",
    "print(f\"Training Mean Squared Error (model): {error}\")"
   ]
  },
  {
   "cell_type": "markdown",
   "id": "f0a42667-6897-47c9-8e5b-9fae118b2753",
   "metadata": {},
   "source": [
    "### Testing Data Generation"
   ]
  },
  {
   "cell_type": "code",
   "execution_count": 342,
   "id": "72bf2ab3-546f-405c-9e49-10edbfdf808c",
   "metadata": {},
   "outputs": [
    {
     "name": "stderr",
     "output_type": "stream",
     "text": [
      "/Users/abhishek_shukla/sklearn-env/lib/python3.9/site-packages/sklearn/linear_model/_base.py:279: RuntimeWarning: divide by zero encountered in matmul\n",
      "  return X @ coef_ + self.intercept_\n",
      "/Users/abhishek_shukla/sklearn-env/lib/python3.9/site-packages/sklearn/linear_model/_base.py:279: RuntimeWarning: overflow encountered in matmul\n",
      "  return X @ coef_ + self.intercept_\n",
      "/Users/abhishek_shukla/sklearn-env/lib/python3.9/site-packages/sklearn/linear_model/_base.py:279: RuntimeWarning: invalid value encountered in matmul\n",
      "  return X @ coef_ + self.intercept_\n"
     ]
    }
   ],
   "source": [
    "y_pred_test = pred_func(X_test_df, model, selected_vars, transform_func_list)\n",
    "y_pred_test = y_pred_test.reshape(test_count)\n",
    "\n",
    "np.save(\"pred_dwight.npy\", y_pred_test)"
   ]
  },
  {
   "cell_type": "code",
   "execution_count": null,
   "id": "c54b57c9-7ceb-41e0-bfb9-57ba6ef63404",
   "metadata": {},
   "outputs": [],
   "source": []
  },
  {
   "cell_type": "code",
   "execution_count": null,
   "id": "a8aef8d3-54af-44c8-adc6-d1ba72c9ffe3",
   "metadata": {},
   "outputs": [],
   "source": []
  },
  {
   "cell_type": "code",
   "execution_count": null,
   "id": "4036eab2-73eb-49b9-b754-20e0d0236732",
   "metadata": {},
   "outputs": [],
   "source": []
  },
  {
   "cell_type": "code",
   "execution_count": null,
   "id": "03f925a5-8c5b-453a-ad7e-d568df8476e3",
   "metadata": {},
   "outputs": [],
   "source": []
  },
  {
   "cell_type": "code",
   "execution_count": null,
   "id": "c66f3d7b-4ec8-45b9-aba6-ef46367a5271",
   "metadata": {},
   "outputs": [],
   "source": []
  },
  {
   "cell_type": "code",
   "execution_count": null,
   "id": "1370036d-02fb-4d66-91bc-17587363b8de",
   "metadata": {},
   "outputs": [],
   "source": []
  },
  {
   "cell_type": "code",
   "execution_count": null,
   "id": "21c98411-481d-456f-ac96-4edf66545d6b",
   "metadata": {},
   "outputs": [],
   "source": []
  },
  {
   "cell_type": "code",
   "execution_count": null,
   "id": "f3fc61dd-c4b8-498c-87bc-bd0956bd6de7",
   "metadata": {},
   "outputs": [],
   "source": []
  },
  {
   "cell_type": "code",
   "execution_count": null,
   "id": "2f24ba07-688b-4fdd-8fb7-cd00bc68b85e",
   "metadata": {},
   "outputs": [],
   "source": []
  },
  {
   "cell_type": "code",
   "execution_count": null,
   "id": "b26cd3c6-9571-47bf-9a32-443740233955",
   "metadata": {},
   "outputs": [],
   "source": []
  },
  {
   "cell_type": "code",
   "execution_count": null,
   "id": "807c1051-a76c-490c-a928-828fd59a2bcc",
   "metadata": {},
   "outputs": [],
   "source": []
  },
  {
   "cell_type": "code",
   "execution_count": null,
   "id": "0b8932df-aa60-4284-8f69-e78d8676e8d5",
   "metadata": {},
   "outputs": [],
   "source": []
  },
  {
   "cell_type": "code",
   "execution_count": null,
   "id": "124b11fd-3fd1-49d1-be9a-fba474c4180d",
   "metadata": {},
   "outputs": [],
   "source": []
  },
  {
   "cell_type": "code",
   "execution_count": null,
   "id": "65ceb486-f650-4e6f-9eac-f45b2fbc206a",
   "metadata": {},
   "outputs": [],
   "source": []
  },
  {
   "cell_type": "code",
   "execution_count": null,
   "id": "8938fef4-c079-4da1-a632-c982cf48d7a7",
   "metadata": {},
   "outputs": [],
   "source": []
  },
  {
   "cell_type": "code",
   "execution_count": null,
   "id": "54af58a7-339e-47fc-9de3-c5806ff57f0c",
   "metadata": {},
   "outputs": [],
   "source": []
  },
  {
   "cell_type": "code",
   "execution_count": null,
   "id": "90516655-5023-4761-a14d-8375da3891f2",
   "metadata": {},
   "outputs": [],
   "source": []
  },
  {
   "cell_type": "code",
   "execution_count": null,
   "id": "c45348e8-6a89-4a8b-b37d-0c33f53059d1",
   "metadata": {},
   "outputs": [],
   "source": []
  },
  {
   "cell_type": "code",
   "execution_count": null,
   "id": "7ad2d137-f68d-4602-b55e-42f7ab94cb3a",
   "metadata": {},
   "outputs": [],
   "source": []
  },
  {
   "cell_type": "code",
   "execution_count": null,
   "id": "da46caa3-5a06-4e13-a922-997be9f05f92",
   "metadata": {},
   "outputs": [],
   "source": []
  },
  {
   "cell_type": "code",
   "execution_count": null,
   "id": "ae98807e-bd2d-4d26-a302-401e6c164f32",
   "metadata": {},
   "outputs": [],
   "source": []
  },
  {
   "cell_type": "code",
   "execution_count": null,
   "id": "72b817f7-ed8c-46ba-b762-8dc648730fc0",
   "metadata": {},
   "outputs": [],
   "source": []
  },
  {
   "cell_type": "code",
   "execution_count": null,
   "id": "98b2d48a-f879-4671-b20c-8b0c0ab47f67",
   "metadata": {},
   "outputs": [],
   "source": []
  },
  {
   "cell_type": "code",
   "execution_count": null,
   "id": "5a9eadd8-6c62-4c3b-ab84-b50e2ca9fa8e",
   "metadata": {},
   "outputs": [],
   "source": []
  },
  {
   "cell_type": "code",
   "execution_count": null,
   "id": "62505baa-55b5-489f-a69d-5283d51561e7",
   "metadata": {},
   "outputs": [],
   "source": []
  },
  {
   "cell_type": "code",
   "execution_count": null,
   "id": "b709eaf1-51d9-4a5c-b929-c8735114d797",
   "metadata": {},
   "outputs": [],
   "source": []
  },
  {
   "cell_type": "code",
   "execution_count": null,
   "id": "e821894a-4324-4491-a96b-a4c5e095d917",
   "metadata": {},
   "outputs": [],
   "source": []
  },
  {
   "cell_type": "code",
   "execution_count": null,
   "id": "482cbd01-841a-4427-8baa-4c9922988778",
   "metadata": {},
   "outputs": [],
   "source": []
  },
  {
   "cell_type": "code",
   "execution_count": null,
   "id": "ba91f60e-ecd2-4adc-9f8d-7d2b1721274e",
   "metadata": {},
   "outputs": [],
   "source": []
  },
  {
   "cell_type": "code",
   "execution_count": null,
   "id": "be00f9ec-2058-4d9c-b18c-2ca577463cb6",
   "metadata": {},
   "outputs": [],
   "source": []
  },
  {
   "cell_type": "code",
   "execution_count": null,
   "id": "565c5bcd-53a6-4a64-a8c7-0ae115fb9900",
   "metadata": {},
   "outputs": [],
   "source": []
  },
  {
   "cell_type": "code",
   "execution_count": null,
   "id": "f1241c0f-66a5-4d57-bd7a-755cbce8a562",
   "metadata": {},
   "outputs": [],
   "source": []
  },
  {
   "cell_type": "code",
   "execution_count": null,
   "id": "0bba686d-4f9f-479b-964a-94afea54e9ac",
   "metadata": {},
   "outputs": [],
   "source": []
  },
  {
   "cell_type": "code",
   "execution_count": null,
   "id": "8288c732-b254-4d70-a1e3-2ce96fe782e9",
   "metadata": {},
   "outputs": [],
   "source": []
  },
  {
   "cell_type": "code",
   "execution_count": null,
   "id": "babffec0-dd6c-41ca-9797-f079815c6a9c",
   "metadata": {},
   "outputs": [],
   "source": []
  },
  {
   "cell_type": "code",
   "execution_count": null,
   "id": "d91370f7-0df6-40bf-b135-19162ff39910",
   "metadata": {},
   "outputs": [],
   "source": []
  },
  {
   "cell_type": "code",
   "execution_count": null,
   "id": "93899216-0645-43e5-8200-e66cd7b8390f",
   "metadata": {},
   "outputs": [],
   "source": []
  },
  {
   "cell_type": "code",
   "execution_count": null,
   "id": "8aa6e084-61c1-4b09-bf37-5709c94bdba0",
   "metadata": {},
   "outputs": [],
   "source": []
  },
  {
   "cell_type": "code",
   "execution_count": null,
   "id": "5038978f-378c-4826-9b75-f9526d11cca8",
   "metadata": {},
   "outputs": [],
   "source": []
  },
  {
   "cell_type": "code",
   "execution_count": null,
   "id": "e3cd215c-dbd7-4604-ae14-6391444cd030",
   "metadata": {},
   "outputs": [],
   "source": []
  },
  {
   "cell_type": "code",
   "execution_count": null,
   "id": "7b99684c-21af-49ae-8048-5edb09da9f1f",
   "metadata": {},
   "outputs": [],
   "source": []
  },
  {
   "cell_type": "code",
   "execution_count": null,
   "id": "6d90cbb0-f273-41eb-83ab-403025e2b811",
   "metadata": {},
   "outputs": [],
   "source": []
  },
  {
   "cell_type": "code",
   "execution_count": null,
   "id": "88103403-908e-4844-b26c-1b68525295d2",
   "metadata": {},
   "outputs": [],
   "source": []
  },
  {
   "cell_type": "code",
   "execution_count": null,
   "id": "5662bc41-384f-43da-b243-82b6fd36eb99",
   "metadata": {},
   "outputs": [],
   "source": []
  }
 ],
 "metadata": {
  "kernelspec": {
   "display_name": "My Sci-Kit Learn Env",
   "language": "python",
   "name": "sklearn-env"
  },
  "language_info": {
   "codemirror_mode": {
    "name": "ipython",
    "version": 3
   },
   "file_extension": ".py",
   "mimetype": "text/x-python",
   "name": "python",
   "nbconvert_exporter": "python",
   "pygments_lexer": "ipython3",
   "version": "3.9.6"
  }
 },
 "nbformat": 4,
 "nbformat_minor": 5
}
